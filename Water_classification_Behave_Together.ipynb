{
  "nbformat": 4,
  "nbformat_minor": 0,
  "metadata": {
    "colab": {
      "provenance": [],
      "toc_visible": true,
      "include_colab_link": true
    },
    "kernelspec": {
      "name": "python3",
      "display_name": "Python 3"
    },
    "language_info": {
      "name": "python"
    },
    "gpuClass": "standard"
  },
  "cells": [
    {
      "cell_type": "markdown",
      "metadata": {
        "id": "view-in-github",
        "colab_type": "text"
      },
      "source": [
        "<a href=\"https://colab.research.google.com/github/Kuehl-California-notebooks/Water_classification_Behave_Together/blob/main/Water_classification_Behave_Together.ipynb\" target=\"_parent\"><img src=\"https://colab.research.google.com/assets/colab-badge.svg\" alt=\"Open In Colab\"/></a>"
      ]
    },
    {
      "cell_type": "code",
      "execution_count": null,
      "metadata": {
        "id": "TF7AEZeYWy-c"
      },
      "outputs": [],
      "source": [
        "from tensorflow.keras import layers\n",
        "from tensorflow import keras\n",
        "import tensorflow as tf\n",
        "\n",
        "from sklearn.model_selection import train_test_split\n",
        "from ast import literal_eval\n",
        "\n",
        "import matplotlib.pyplot as plt\n",
        "import pandas as pd\n",
        "import numpy as np"
      ]
    },
    {
      "cell_type": "markdown",
      "source": [
        "## Perform exploratory data analysis\n",
        "\n",
        "In this section, we first load the dataset into a `pandas` dataframe and then perform\n",
        "some basic exploratory data analysis (EDA)."
      ],
      "metadata": {
        "id": "HaxJWMlvbQTg"
      }
    },
    {
      "cell_type": "code",
      "source": [
        "raw_water_data = pd.read_csv('https://raw.githubusercontent.com/ekirchman/RIPS-notebooks/master/twitsamp11.15.csv')\n",
        "raw_water_data.head()"
      ],
      "metadata": {
        "colab": {
          "base_uri": "https://localhost:8080/",
          "height": 647
        },
        "id": "0lANVDpybOD_",
        "outputId": "5a61a187-e92b-491a-d4a3-6f3f41ebf8db"
      },
      "execution_count": null,
      "outputs": [
        {
          "output_type": "execute_result",
          "data": {
            "text/plain": [
              "   Unnamed: 0       user_id     status_id  created_at    screen_name  \\\n",
              "0         318  2.458856e+08  6.950000e+17  1454439520      OtayWater   \n",
              "1         643  6.023518e+08  1.070000e+18  1544807843        CITYSEM   \n",
              "2          13  1.614689e+08  1.200000e+18  1575493955  COGWaterPower   \n",
              "3          14  2.327619e+09  7.880000e+17  1476747592       DWAwater   \n",
              "4          16  2.405357e+07  8.500000e+17  1491432440           CCWD   \n",
              "\n",
              "                                                text              source  \\\n",
              "0  ¡Californianos continúan cumpliendo con el man...  Twitter Web Client   \n",
              "1  Little League Registration Info. https://t.co/...            Facebook   \n",
              "2  Make your yard beautiful with permeable surfac...     Twitter Web App   \n",
              "3  DWA customers saved 8% in September. Our goal ...  Twitter Web Client   \n",
              "4  @CCWD's Los Vaqueros Reservoir was looking lov...  Twitter for iPhone   \n",
              "\n",
              "   display_text_width  reply_to_status_id  reply_to_user_id  ... Information  \\\n",
              "0                 140                 NaN               NaN  ...         NaN   \n",
              "1                  56                 NaN               NaN  ...         NaN   \n",
              "2                 144                 NaN               NaN  ...         NaN   \n",
              "3                 131                 NaN               NaN  ...         1.0   \n",
              "4                 122                 NaN        24053573.0  ...         1.0   \n",
              "\n",
              "   Motivation  Skills  Unnamed: 100  Subsidy  Bill  Unnamed: 103 Regulations  \\\n",
              "0         NaN     NaN           NaN      NaN   NaN           NaN         1.0   \n",
              "1         NaN     NaN           NaN      NaN   NaN           NaN         NaN   \n",
              "2         NaN     1.0           NaN      NaN   NaN           NaN         NaN   \n",
              "3         1.0     NaN           NaN      NaN   NaN           NaN         NaN   \n",
              "4         NaN     NaN           NaN      NaN   NaN           NaN         NaN   \n",
              "\n",
              "   Behavioral Incentives  \n",
              "0         NaN        NaN  \n",
              "1         NaN        NaN  \n",
              "2         NaN        NaN  \n",
              "3         1.0        NaN  \n",
              "4         1.0        NaN  \n",
              "\n",
              "[5 rows x 107 columns]"
            ],
            "text/html": [
              "\n",
              "  <div id=\"df-25ad7444-b886-4ffa-8c96-218763532b81\">\n",
              "    <div class=\"colab-df-container\">\n",
              "      <div>\n",
              "<style scoped>\n",
              "    .dataframe tbody tr th:only-of-type {\n",
              "        vertical-align: middle;\n",
              "    }\n",
              "\n",
              "    .dataframe tbody tr th {\n",
              "        vertical-align: top;\n",
              "    }\n",
              "\n",
              "    .dataframe thead th {\n",
              "        text-align: right;\n",
              "    }\n",
              "</style>\n",
              "<table border=\"1\" class=\"dataframe\">\n",
              "  <thead>\n",
              "    <tr style=\"text-align: right;\">\n",
              "      <th></th>\n",
              "      <th>Unnamed: 0</th>\n",
              "      <th>user_id</th>\n",
              "      <th>status_id</th>\n",
              "      <th>created_at</th>\n",
              "      <th>screen_name</th>\n",
              "      <th>text</th>\n",
              "      <th>source</th>\n",
              "      <th>display_text_width</th>\n",
              "      <th>reply_to_status_id</th>\n",
              "      <th>reply_to_user_id</th>\n",
              "      <th>...</th>\n",
              "      <th>Information</th>\n",
              "      <th>Motivation</th>\n",
              "      <th>Skills</th>\n",
              "      <th>Unnamed: 100</th>\n",
              "      <th>Subsidy</th>\n",
              "      <th>Bill</th>\n",
              "      <th>Unnamed: 103</th>\n",
              "      <th>Regulations</th>\n",
              "      <th>Behavioral</th>\n",
              "      <th>Incentives</th>\n",
              "    </tr>\n",
              "  </thead>\n",
              "  <tbody>\n",
              "    <tr>\n",
              "      <th>0</th>\n",
              "      <td>318</td>\n",
              "      <td>2.458856e+08</td>\n",
              "      <td>6.950000e+17</td>\n",
              "      <td>1454439520</td>\n",
              "      <td>OtayWater</td>\n",
              "      <td>¡Californianos continúan cumpliendo con el man...</td>\n",
              "      <td>Twitter Web Client</td>\n",
              "      <td>140</td>\n",
              "      <td>NaN</td>\n",
              "      <td>NaN</td>\n",
              "      <td>...</td>\n",
              "      <td>NaN</td>\n",
              "      <td>NaN</td>\n",
              "      <td>NaN</td>\n",
              "      <td>NaN</td>\n",
              "      <td>NaN</td>\n",
              "      <td>NaN</td>\n",
              "      <td>NaN</td>\n",
              "      <td>1.0</td>\n",
              "      <td>NaN</td>\n",
              "      <td>NaN</td>\n",
              "    </tr>\n",
              "    <tr>\n",
              "      <th>1</th>\n",
              "      <td>643</td>\n",
              "      <td>6.023518e+08</td>\n",
              "      <td>1.070000e+18</td>\n",
              "      <td>1544807843</td>\n",
              "      <td>CITYSEM</td>\n",
              "      <td>Little League Registration Info. https://t.co/...</td>\n",
              "      <td>Facebook</td>\n",
              "      <td>56</td>\n",
              "      <td>NaN</td>\n",
              "      <td>NaN</td>\n",
              "      <td>...</td>\n",
              "      <td>NaN</td>\n",
              "      <td>NaN</td>\n",
              "      <td>NaN</td>\n",
              "      <td>NaN</td>\n",
              "      <td>NaN</td>\n",
              "      <td>NaN</td>\n",
              "      <td>NaN</td>\n",
              "      <td>NaN</td>\n",
              "      <td>NaN</td>\n",
              "      <td>NaN</td>\n",
              "    </tr>\n",
              "    <tr>\n",
              "      <th>2</th>\n",
              "      <td>13</td>\n",
              "      <td>1.614689e+08</td>\n",
              "      <td>1.200000e+18</td>\n",
              "      <td>1575493955</td>\n",
              "      <td>COGWaterPower</td>\n",
              "      <td>Make your yard beautiful with permeable surfac...</td>\n",
              "      <td>Twitter Web App</td>\n",
              "      <td>144</td>\n",
              "      <td>NaN</td>\n",
              "      <td>NaN</td>\n",
              "      <td>...</td>\n",
              "      <td>NaN</td>\n",
              "      <td>NaN</td>\n",
              "      <td>1.0</td>\n",
              "      <td>NaN</td>\n",
              "      <td>NaN</td>\n",
              "      <td>NaN</td>\n",
              "      <td>NaN</td>\n",
              "      <td>NaN</td>\n",
              "      <td>NaN</td>\n",
              "      <td>NaN</td>\n",
              "    </tr>\n",
              "    <tr>\n",
              "      <th>3</th>\n",
              "      <td>14</td>\n",
              "      <td>2.327619e+09</td>\n",
              "      <td>7.880000e+17</td>\n",
              "      <td>1476747592</td>\n",
              "      <td>DWAwater</td>\n",
              "      <td>DWA customers saved 8% in September. Our goal ...</td>\n",
              "      <td>Twitter Web Client</td>\n",
              "      <td>131</td>\n",
              "      <td>NaN</td>\n",
              "      <td>NaN</td>\n",
              "      <td>...</td>\n",
              "      <td>1.0</td>\n",
              "      <td>1.0</td>\n",
              "      <td>NaN</td>\n",
              "      <td>NaN</td>\n",
              "      <td>NaN</td>\n",
              "      <td>NaN</td>\n",
              "      <td>NaN</td>\n",
              "      <td>NaN</td>\n",
              "      <td>1.0</td>\n",
              "      <td>NaN</td>\n",
              "    </tr>\n",
              "    <tr>\n",
              "      <th>4</th>\n",
              "      <td>16</td>\n",
              "      <td>2.405357e+07</td>\n",
              "      <td>8.500000e+17</td>\n",
              "      <td>1491432440</td>\n",
              "      <td>CCWD</td>\n",
              "      <td>@CCWD's Los Vaqueros Reservoir was looking lov...</td>\n",
              "      <td>Twitter for iPhone</td>\n",
              "      <td>122</td>\n",
              "      <td>NaN</td>\n",
              "      <td>24053573.0</td>\n",
              "      <td>...</td>\n",
              "      <td>1.0</td>\n",
              "      <td>NaN</td>\n",
              "      <td>NaN</td>\n",
              "      <td>NaN</td>\n",
              "      <td>NaN</td>\n",
              "      <td>NaN</td>\n",
              "      <td>NaN</td>\n",
              "      <td>NaN</td>\n",
              "      <td>1.0</td>\n",
              "      <td>NaN</td>\n",
              "    </tr>\n",
              "  </tbody>\n",
              "</table>\n",
              "<p>5 rows × 107 columns</p>\n",
              "</div>\n",
              "      <button class=\"colab-df-convert\" onclick=\"convertToInteractive('df-25ad7444-b886-4ffa-8c96-218763532b81')\"\n",
              "              title=\"Convert this dataframe to an interactive table.\"\n",
              "              style=\"display:none;\">\n",
              "        \n",
              "  <svg xmlns=\"http://www.w3.org/2000/svg\" height=\"24px\"viewBox=\"0 0 24 24\"\n",
              "       width=\"24px\">\n",
              "    <path d=\"M0 0h24v24H0V0z\" fill=\"none\"/>\n",
              "    <path d=\"M18.56 5.44l.94 2.06.94-2.06 2.06-.94-2.06-.94-.94-2.06-.94 2.06-2.06.94zm-11 1L8.5 8.5l.94-2.06 2.06-.94-2.06-.94L8.5 2.5l-.94 2.06-2.06.94zm10 10l.94 2.06.94-2.06 2.06-.94-2.06-.94-.94-2.06-.94 2.06-2.06.94z\"/><path d=\"M17.41 7.96l-1.37-1.37c-.4-.4-.92-.59-1.43-.59-.52 0-1.04.2-1.43.59L10.3 9.45l-7.72 7.72c-.78.78-.78 2.05 0 2.83L4 21.41c.39.39.9.59 1.41.59.51 0 1.02-.2 1.41-.59l7.78-7.78 2.81-2.81c.8-.78.8-2.07 0-2.86zM5.41 20L4 18.59l7.72-7.72 1.47 1.35L5.41 20z\"/>\n",
              "  </svg>\n",
              "      </button>\n",
              "      \n",
              "  <style>\n",
              "    .colab-df-container {\n",
              "      display:flex;\n",
              "      flex-wrap:wrap;\n",
              "      gap: 12px;\n",
              "    }\n",
              "\n",
              "    .colab-df-convert {\n",
              "      background-color: #E8F0FE;\n",
              "      border: none;\n",
              "      border-radius: 50%;\n",
              "      cursor: pointer;\n",
              "      display: none;\n",
              "      fill: #1967D2;\n",
              "      height: 32px;\n",
              "      padding: 0 0 0 0;\n",
              "      width: 32px;\n",
              "    }\n",
              "\n",
              "    .colab-df-convert:hover {\n",
              "      background-color: #E2EBFA;\n",
              "      box-shadow: 0px 1px 2px rgba(60, 64, 67, 0.3), 0px 1px 3px 1px rgba(60, 64, 67, 0.15);\n",
              "      fill: #174EA6;\n",
              "    }\n",
              "\n",
              "    [theme=dark] .colab-df-convert {\n",
              "      background-color: #3B4455;\n",
              "      fill: #D2E3FC;\n",
              "    }\n",
              "\n",
              "    [theme=dark] .colab-df-convert:hover {\n",
              "      background-color: #434B5C;\n",
              "      box-shadow: 0px 1px 3px 1px rgba(0, 0, 0, 0.15);\n",
              "      filter: drop-shadow(0px 1px 2px rgba(0, 0, 0, 0.3));\n",
              "      fill: #FFFFFF;\n",
              "    }\n",
              "  </style>\n",
              "\n",
              "      <script>\n",
              "        const buttonEl =\n",
              "          document.querySelector('#df-25ad7444-b886-4ffa-8c96-218763532b81 button.colab-df-convert');\n",
              "        buttonEl.style.display =\n",
              "          google.colab.kernel.accessAllowed ? 'block' : 'none';\n",
              "\n",
              "        async function convertToInteractive(key) {\n",
              "          const element = document.querySelector('#df-25ad7444-b886-4ffa-8c96-218763532b81');\n",
              "          const dataTable =\n",
              "            await google.colab.kernel.invokeFunction('convertToInteractive',\n",
              "                                                     [key], {});\n",
              "          if (!dataTable) return;\n",
              "\n",
              "          const docLinkHtml = 'Like what you see? Visit the ' +\n",
              "            '<a target=\"_blank\" href=https://colab.research.google.com/notebooks/data_table.ipynb>data table notebook</a>'\n",
              "            + ' to learn more about interactive tables.';\n",
              "          element.innerHTML = '';\n",
              "          dataTable['output_type'] = 'display_data';\n",
              "          await google.colab.output.renderOutput(dataTable, element);\n",
              "          const docLink = document.createElement('div');\n",
              "          docLink.innerHTML = docLinkHtml;\n",
              "          element.appendChild(docLink);\n",
              "        }\n",
              "      </script>\n",
              "    </div>\n",
              "  </div>\n",
              "  "
            ]
          },
          "metadata": {},
          "execution_count": 2
        }
      ]
    },
    {
      "cell_type": "code",
      "source": [
        "# Columns\n",
        "# list(raw_water_data.columns)"
      ],
      "metadata": {
        "id": "i5VmQRWfbUqK"
      },
      "execution_count": null,
      "outputs": []
    },
    {
      "cell_type": "code",
      "source": [
        "# Check if there is any duplicate tweets\n",
        "total_duplicate_tweets = sum(raw_water_data[\"text\"].duplicated())\n",
        "print(f\"There are {total_duplicate_tweets} duplicate titles.\")"
      ],
      "metadata": {
        "colab": {
          "base_uri": "https://localhost:8080/"
        },
        "id": "mQzLgE7ce_Az",
        "outputId": "3edd0199-02e2-41d0-f6c4-02cc9b26fdc0"
      },
      "execution_count": null,
      "outputs": [
        {
          "output_type": "stream",
          "name": "stdout",
          "text": [
            "There are 0 duplicate titles.\n"
          ]
        }
      ]
    },
    {
      "cell_type": "code",
      "source": [
        "print(f\"There are {raw_water_data.shape[0]} rows in the full dataset\")\n",
        "# Drop all tweets not in english\n",
        "water_data = raw_water_data[(raw_water_data[\"lang\"] == 'en')]\n",
        "print(f\"There are {len(water_data)} rows in the english dataset.\")\n",
        "\n",
        "#drop nan values in drought\n",
        "print(f\"number of nan vals in Drought: {water_data.Drought.isnull().sum()}\")\n",
        "water_data = water_data.dropna(subset=['Drought'])\n",
        "print(f\"There are {len(water_data)} rows in the dataset.\")"
      ],
      "metadata": {
        "colab": {
          "base_uri": "https://localhost:8080/"
        },
        "id": "aITp9xYVgJtV",
        "outputId": "2114055e-2083-46a2-c497-760b164e617b"
      },
      "execution_count": null,
      "outputs": [
        {
          "output_type": "stream",
          "name": "stdout",
          "text": [
            "There are 1000 rows in the full dataset\n",
            "There are 972 rows in the english dataset.\n",
            "number of nan vals in Drought: 1\n",
            "There are 971 rows in the dataset.\n"
          ]
        }
      ]
    },
    {
      "cell_type": "code",
      "source": [
        "#Will be used for later\n",
        "clean_water_data = water_data\n",
        "\n",
        "# get an equal amount from each set\n",
        "drought_df = water_data[water_data['Drought'] == 1].copy()\n",
        "no_drought_df = water_data[water_data['Drought'] == 0][:272].copy()\n",
        "water_data = pd.concat([drought_df, no_drought_df])\n",
        "water_data['Drought'].value_counts()"
      ],
      "metadata": {
        "colab": {
          "base_uri": "https://localhost:8080/"
        },
        "id": "ZY8GFS5VuTwy",
        "outputId": "e6610ee6-81b0-4c5a-aba0-cb976774794a"
      },
      "execution_count": null,
      "outputs": [
        {
          "output_type": "execute_result",
          "data": {
            "text/plain": [
              "1.0    272\n",
              "0.0    272\n",
              "Name: Drought, dtype: int64"
            ]
          },
          "metadata": {},
          "execution_count": 6
        }
      ]
    },
    {
      "cell_type": "code",
      "source": [
        "drought_only = water_data.loc[water_data['Drought'] == 1]"
      ],
      "metadata": {
        "id": "vHEG-SH4xXSV"
      },
      "execution_count": null,
      "outputs": []
    },
    {
      "cell_type": "code",
      "source": [
        "label_list = ['Tip', 'Workshop', 'Information', 'Behavioral', 'Skills', 'Subsidy', 'Bill', 'Regulations']\n",
        "\n",
        "for label in label_list:\n",
        "  drought_only = drought_only.copy()\n",
        "  # replace 1's with the column name\n",
        "  label_w_quotes = \"'\" + label + \"'\"\n",
        "  drought_only.loc[drought_only[label] == 1, label] = label_w_quotes\n",
        "\n",
        "# Move all labels to a single column\n",
        "drought_only['label'] =  \"[\"+ drought_only.Tip.astype(str) + \", \" + \\\n",
        "drought_only.Workshop.astype(str) + \", \" + drought_only.Behavioral.astype(str) + \", \" + \\\n",
        "drought_only.Skills.astype(str) + \", \" + drought_only.Subsidy.astype(str) + \", \" + drought_only.Bill.astype(str) + \\\n",
        "\", \" + drought_only.Regulations.astype(str) + \"]\"\n",
        "\n",
        "# strip nan's\n",
        "drought_only['label'] = drought_only['label'].str.replace('nan, ', '')\n",
        "drought_only['label'] = drought_only['label'].str.replace(', nan', '')\n",
        "drought_only['label'] = drought_only['label'].str.replace('nan', \"'noData'\")\n",
        "\n",
        "drought_only['label'].head(10)"
      ],
      "metadata": {
        "colab": {
          "base_uri": "https://localhost:8080/"
        },
        "id": "JnhpjjGdpHKV",
        "outputId": "99975608-2a5f-4c10-88c2-024f4c1473fb"
      },
      "execution_count": null,
      "outputs": [
        {
          "output_type": "execute_result",
          "data": {
            "text/plain": [
              "2                              ['Tip', 'Skills']\n",
              "3                                 ['Behavioral']\n",
              "4                                 ['Behavioral']\n",
              "5                                 ['Behavioral']\n",
              "6     ['Tip', 'Behavioral', 'Skills', 'Subsidy']\n",
              "7     ['Tip', 'Behavioral', 'Skills', 'Subsidy']\n",
              "8                                 ['Behavioral']\n",
              "9                  ['Behavioral', 'Regulations']\n",
              "10                                ['Behavioral']\n",
              "11                                ['Behavioral']\n",
              "Name: label, dtype: object"
            ]
          },
          "metadata": {},
          "execution_count": 8
        }
      ]
    },
    {
      "cell_type": "code",
      "source": [
        "# There are some terms with occurrence as low as 1.\n",
        "print(sum(drought_only[\"label\"].value_counts() == 1))\n",
        "# How many unique terms?\n",
        "print(drought_only[\"label\"].nunique())"
      ],
      "metadata": {
        "colab": {
          "base_uri": "https://localhost:8080/"
        },
        "id": "yMKTUhDxwVAf",
        "outputId": "ec3d7c42-86b4-41a8-b561-f2e111c7fa56"
      },
      "execution_count": null,
      "outputs": [
        {
          "output_type": "stream",
          "name": "stdout",
          "text": [
            "4\n",
            "15\n"
          ]
        }
      ]
    },
    {
      "cell_type": "code",
      "source": [
        "# Filtering the rare terms.\n",
        "drought_only_filtered = drought_only.groupby(\"label\").filter(lambda x: len(x) > 1)\n",
        "drought_only_filtered.shape"
      ],
      "metadata": {
        "colab": {
          "base_uri": "https://localhost:8080/"
        },
        "id": "xO6h9SG4wV5X",
        "outputId": "86e924dd-fe13-4b83-9d7d-27de8938841d"
      },
      "execution_count": null,
      "outputs": [
        {
          "output_type": "execute_result",
          "data": {
            "text/plain": [
              "(268, 108)"
            ]
          },
          "metadata": {},
          "execution_count": 10
        }
      ]
    },
    {
      "cell_type": "markdown",
      "source": [
        "## Convert the string labels to lists of strings\n",
        "\n",
        "The initial labels are represented as raw strings. Here we make them `List[str]` for a\n",
        "more compact representation."
      ],
      "metadata": {
        "id": "-8bnHHMGiAfv"
      }
    },
    {
      "cell_type": "code",
      "source": [
        "drought_only_filtered[\"label\"] = drought_only_filtered[\"label\"].apply(\n",
        "    lambda x: literal_eval(x)\n",
        ")\n",
        "drought_only_filtered[\"label\"].values[:5]"
      ],
      "metadata": {
        "colab": {
          "base_uri": "https://localhost:8080/"
        },
        "id": "O5RuUx8lyts0",
        "outputId": "a4e98e5a-6f3c-449b-9f05-23dbf654b6f0"
      },
      "execution_count": null,
      "outputs": [
        {
          "output_type": "execute_result",
          "data": {
            "text/plain": [
              "array([list(['Behavioral']), list(['Behavioral']), list(['Behavioral']),\n",
              "       list(['Tip', 'Behavioral', 'Skills', 'Subsidy']),\n",
              "       list(['Tip', 'Behavioral', 'Skills', 'Subsidy'])], dtype=object)"
            ]
          },
          "metadata": {},
          "execution_count": 11
        }
      ]
    },
    {
      "cell_type": "markdown",
      "source": [
        "## Use stratified splits because of class imbalance\n",
        "\n",
        "The dataset has a\n",
        "[class imbalance problem](https://developers.google.com/machine-learning/glossary/#class-imbalanced-dataset).\n",
        "So, to have a fair evaluation result, we need to ensure the datasets are sampled with\n",
        "stratification. To know more about different strategies to deal with the class imbalance\n",
        "problem, you can follow\n",
        "[this tutorial](https://www.tensorflow.org/tutorials/structured_data/imbalanced_data).\n",
        "For an end-to-end demonstration of classification with imbablanced data, refer to\n",
        "[Imbalanced classification: credit card fraud detection](https://keras.io/examples/structured_data/imbalanced_classification/)."
      ],
      "metadata": {
        "id": "4Eva-jH1oRsE"
      }
    },
    {
      "cell_type": "code",
      "source": [
        "\n",
        "test_split = 0.1\n",
        "\n",
        "# Initial train and test split.\n",
        "train_df, test_df = train_test_split(\n",
        "    drought_only_filtered,\n",
        "    # test_size=test_split,\n",
        "    # test_size=0.2,\n",
        "    stratify=drought_only_filtered[\"label\"].values,\n",
        "    random_state=5\n",
        ")\n",
        "\n",
        "# Splitting the test set further into validation\n",
        "# and new test sets.\n",
        "# val_df = test_df.sample(frac=0.5)\n",
        "# test_df.drop(val_df.index, inplace=True)\n",
        "\n",
        "train_df, val_df = train_test_split(train_df,\n",
        "                                     test_size=0.2,\n",
        "                                     random_state=5\n",
        ")\n",
        "\n",
        "print(f\"Number of rows in training set: {len(train_df)}\")\n",
        "print(f\"Number of rows in validation set: {len(val_df)}\")\n",
        "print(f\"Number of rows in test set: {len(test_df)}\")"
      ],
      "metadata": {
        "colab": {
          "base_uri": "https://localhost:8080/"
        },
        "id": "iOpDm1VOoLoO",
        "outputId": "8de4a8ec-3d02-44ad-8795-f68a7b3ff9d7"
      },
      "execution_count": null,
      "outputs": [
        {
          "output_type": "stream",
          "name": "stdout",
          "text": [
            "Number of rows in training set: 160\n",
            "Number of rows in validation set: 41\n",
            "Number of rows in test set: 67\n"
          ]
        }
      ]
    },
    {
      "cell_type": "markdown",
      "source": [
        "## Multi-class binarization\n",
        "\n",
        "Now we preprocess our labels using the\n",
        "[`StringLookup`](https://keras.io/api/layers/preprocessing_layers/categorical/string_lookup)\n",
        "layer."
      ],
      "metadata": {
        "id": "qRungOClxeOR"
      }
    },
    {
      "cell_type": "code",
      "source": [
        "labels = tf.ragged.constant(train_df[\"label\"].values)\n",
        "lookup = tf.keras.layers.StringLookup(output_mode=\"multi_hot\")\n",
        "lookup.adapt(labels)\n",
        "vocab = lookup.get_vocabulary()\n",
        "\n",
        "\n",
        "def invert_multi_hot(encoded_labels):\n",
        "    \"\"\"Reverse a single multi-hot encoded label to a tuple of vocab terms.\"\"\"\n",
        "    hot_indices = np.argwhere(encoded_labels == 1.0)[..., 0]\n",
        "    return np.take(vocab, hot_indices)\n",
        "\n",
        "\n",
        "print(\"Vocabulary:\\n\")\n",
        "print(vocab)\n"
      ],
      "metadata": {
        "colab": {
          "base_uri": "https://localhost:8080/"
        },
        "id": "Pezzo4wRxe9I",
        "outputId": "3615740b-fe43-4cba-f5b1-a55ee3bd6b18"
      },
      "execution_count": null,
      "outputs": [
        {
          "output_type": "stream",
          "name": "stdout",
          "text": [
            "Vocabulary:\n",
            "\n",
            "['[UNK]', 'Behavioral', 'Skills', 'Tip', 'Subsidy', 'Workshop', 'Bill', 'Regulations']\n"
          ]
        }
      ]
    },
    {
      "cell_type": "markdown",
      "source": [
        "Here we are separating the individual unique classes available from the label\n",
        "pool and then using this information to represent a given label set with 0's and 1's.\n",
        "Below is an example."
      ],
      "metadata": {
        "id": "avuTNByvycgg"
      }
    },
    {
      "cell_type": "code",
      "source": [
        "sample_label = train_df[\"label\"].iloc[0]\n",
        "print(f\"Original label: {sample_label}\")\n",
        "\n",
        "label_binarized = lookup([sample_label])\n",
        "print(f\"Label-binarized representation: {label_binarized}\")"
      ],
      "metadata": {
        "colab": {
          "base_uri": "https://localhost:8080/"
        },
        "id": "rHdSVrJ0yd2B",
        "outputId": "0d20f58a-39fe-4df2-e4cf-a0060ebd6c70"
      },
      "execution_count": null,
      "outputs": [
        {
          "output_type": "stream",
          "name": "stdout",
          "text": [
            "Original label: ['Subsidy']\n",
            "Label-binarized representation: [[0. 0. 0. 0. 1. 0. 0. 0.]]\n"
          ]
        }
      ]
    },
    {
      "cell_type": "markdown",
      "source": [
        "## Data preprocessing and `tf.data.Dataset` objects\n",
        "\n",
        "We first get percentile estimates of the sequence lengths. The purpose will be clear in a\n",
        "moment."
      ],
      "metadata": {
        "id": "0MBC0p53y0EW"
      }
    },
    {
      "cell_type": "code",
      "source": [
        "train_df[\"text\"].apply(lambda x: len(x.split(\" \"))).describe()"
      ],
      "metadata": {
        "colab": {
          "base_uri": "https://localhost:8080/"
        },
        "id": "5jGHXfSPyzBJ",
        "outputId": "ddd9791f-af86-438c-ead0-7d263c0dc014"
      },
      "execution_count": null,
      "outputs": [
        {
          "output_type": "execute_result",
          "data": {
            "text/plain": [
              "count    160.000000\n",
              "mean      22.925000\n",
              "std       10.361728\n",
              "min        5.000000\n",
              "25%       16.750000\n",
              "50%       20.000000\n",
              "75%       26.000000\n",
              "max       51.000000\n",
              "Name: text, dtype: float64"
            ]
          },
          "metadata": {},
          "execution_count": 15
        }
      ]
    },
    {
      "cell_type": "markdown",
      "source": [
        "Notice that 50% of the abstracts have a length of 20 . So, any number close to that value is a good enough approximate for the\n",
        "maximum sequence length.\n",
        "\n",
        "Now, we implement utilities to prepare our datasets."
      ],
      "metadata": {
        "id": "XmdR58dwzcVM"
      }
    },
    {
      "cell_type": "code",
      "source": [
        "max_seqlen = 20\n",
        "batch_size = 128\n",
        "padding_token = \"<pad>\"\n",
        "auto = tf.data.AUTOTUNE\n",
        "\n",
        "\n",
        "def make_dataset(dataframe, is_train=True):\n",
        "    labels = tf.ragged.constant(dataframe[\"label\"].values)\n",
        "    label_binarized = lookup(labels).numpy()\n",
        "    dataset = tf.data.Dataset.from_tensor_slices(\n",
        "        (dataframe[\"text\"].values, label_binarized)\n",
        "    )\n",
        "    dataset = dataset.shuffle(batch_size * 10) if is_train else dataset\n",
        "    return dataset.batch(batch_size)\n"
      ],
      "metadata": {
        "id": "7lwOPUVuzgMh"
      },
      "execution_count": null,
      "outputs": []
    },
    {
      "cell_type": "markdown",
      "source": [
        "Now we can prepare the `tf.data.Dataset` objects."
      ],
      "metadata": {
        "id": "ud1BUHh3zvZl"
      }
    },
    {
      "cell_type": "code",
      "source": [
        "train_dataset = make_dataset(train_df, is_train=True)\n",
        "validation_dataset = make_dataset(val_df, is_train=False)\n",
        "test_dataset = make_dataset(test_df, is_train=False)"
      ],
      "metadata": {
        "id": "FS_G_Vxmz8TQ"
      },
      "execution_count": null,
      "outputs": []
    },
    {
      "cell_type": "markdown",
      "source": [
        "## Dataset preview"
      ],
      "metadata": {
        "id": "-ympxSwU0UtH"
      }
    },
    {
      "cell_type": "code",
      "source": [
        "text_batch, label_batch = next(iter(train_dataset))\n",
        "\n",
        "for i, text in enumerate(text_batch[:5]):\n",
        "    label = label_batch[i].numpy()[None, ...]\n",
        "    print(f\"Abstract: {text}\")\n",
        "    print(f\"Label(s): {invert_multi_hot(label[0])}\")\n",
        "    print(\" \")"
      ],
      "metadata": {
        "colab": {
          "base_uri": "https://localhost:8080/"
        },
        "id": "XB6Bon7j0VVQ",
        "outputId": "612cdf57-2ac1-4b69-fcb3-e9da9d690b43"
      },
      "execution_count": null,
      "outputs": [
        {
          "output_type": "stream",
          "name": "stdout",
          "text": [
            "Abstract: [164.51096    0.         1.160579 ...   0.         0.         0.      ]\n",
            "Label(s): ['Behavioral']\n",
            " \n",
            "Abstract: [8.225548  1.9234164 0.        ... 0.        0.        0.       ]\n",
            "Label(s): ['Behavioral']\n",
            " \n",
            "Abstract: [57.578835   0.9617082  0.        ...  0.         0.         0.       ]\n",
            "Label(s): ['Behavioral' 'Skills' 'Workshop']\n",
            " \n",
            "Abstract: [82.25548    0.9617082  0.        ...  0.         0.         0.       ]\n",
            "Label(s): ['Behavioral']\n",
            " \n",
            "Abstract: [32.90219    2.8851247  1.160579  ...  0.         0.         0.       ]\n",
            "Label(s): ['Behavioral' 'Skills' 'Tip']\n",
            " \n"
          ]
        }
      ]
    },
    {
      "cell_type": "markdown",
      "source": [
        "## Vectorization\n",
        "\n",
        "Before we feed the data to our model, we need to vectorize it (represent it in a numerical form).\n",
        "For that purpose, we will use the\n",
        "[`TextVectorization` layer](https://keras.io/api/layers/preprocessing_layers/text/text_vectorization).\n",
        "It can operate as a part of your main model so that the model is excluded from the core\n",
        "preprocessing logic. This greatly reduces the chances of training / serving skew during inference.\n",
        "\n",
        "We first calculate the number of unique words present in the tweet body text."
      ],
      "metadata": {
        "id": "fhrUylmN02Xk"
      }
    },
    {
      "cell_type": "code",
      "source": [
        "# Source: https://stackoverflow.com/a/18937309/7636462\n",
        "vocabulary = set()\n",
        "train_df[\"text\"].str.lower().str.split().apply(vocabulary.update)\n",
        "vocabulary_size = len(vocabulary)\n",
        "print(vocabulary_size)"
      ],
      "metadata": {
        "colab": {
          "base_uri": "https://localhost:8080/"
        },
        "id": "0rz3pOJj023A",
        "outputId": "75441370-5356-4119-bef6-c1e9c2852d40"
      },
      "execution_count": null,
      "outputs": [
        {
          "output_type": "stream",
          "name": "stdout",
          "text": [
            "1726\n"
          ]
        }
      ]
    },
    {
      "cell_type": "markdown",
      "source": [
        "We now create our vectorization layer and `map()` to the `tf.data.Dataset`s created\n",
        "earlier."
      ],
      "metadata": {
        "id": "S-31zArF1RCk"
      }
    },
    {
      "cell_type": "code",
      "source": [
        "text_vectorizer = layers.TextVectorization(\n",
        "    max_tokens=vocabulary_size,\n",
        "    # max_tokens=20000,\n",
        "     ngrams=2, output_mode=\"tf_idf\"\n",
        ")\n",
        "\n",
        "# `TextVectorization` layer needs to be adapted as per the vocabulary from our\n",
        "# training set.\n",
        "with tf.device(\"/CPU:0\"):\n",
        "    text_vectorizer.adapt(train_dataset.map(lambda text, label: text))\n",
        "\n",
        "train_dataset = train_dataset.map(\n",
        "    lambda text, label: (text_vectorizer(text), label), num_parallel_calls=auto\n",
        ").prefetch(auto)\n",
        "validation_dataset = validation_dataset.map(\n",
        "    lambda text, label: (text_vectorizer(text), label), num_parallel_calls=auto\n",
        ").prefetch(auto)\n",
        "test_dataset = test_dataset.map(\n",
        "    lambda text, label: (text_vectorizer(text), label), num_parallel_calls=auto\n",
        ").prefetch(auto)\n"
      ],
      "metadata": {
        "id": "LmLd5feB1Rgg"
      },
      "execution_count": null,
      "outputs": []
    },
    {
      "cell_type": "markdown",
      "source": [
        "A batch of raw text will first go through the `TextVectorization` layer and it will\n",
        "generate their integer representations. Internally, the `TextVectorization` layer will\n",
        "first create bi-grams out of the sequences and then represent them using\n",
        "[TF-IDF](https://wikipedia.org/wiki/Tf%E2%80%93idf). The output representations will then\n",
        "be passed to the shallow model responsible for text classification.\n",
        "\n",
        "To learn more about other possible configurations with `TextVectorizer`, please consult\n",
        "the\n",
        "[official documentation](https://keras.io/api/layers/preprocessing_layers/text/text_vectorization).\n",
        "\n",
        "**Note**: Setting the `max_tokens` argument to a pre-calculated vocabulary size is\n",
        "not a requirement."
      ],
      "metadata": {
        "id": "8VdCumN113oO"
      }
    },
    {
      "cell_type": "markdown",
      "source": [
        "## Create a text classification model\n",
        "\n",
        "We will keep our model simple -- it will be a small stack of fully-connected layers with\n",
        "ReLU as the non-linearity."
      ],
      "metadata": {
        "id": "Pv85SqDp2AsR"
      }
    },
    {
      "cell_type": "code",
      "source": [
        "\n",
        "def make_model():\n",
        "    shallow_mlp_model = keras.Sequential(\n",
        "        [\n",
        "            layers.Dense(256, activation=\"relu\"),\n",
        "            layers.Dense(256, activation=\"relu\"),\n",
        "            # layers.Dense(256, activation=\"relu\"),\n",
        "            layers.Dense(lookup.vocabulary_size(), activation=\"sigmoid\"),\n",
        "        ]  # More on why \"sigmoid\" has been used here in a moment.\n",
        "    )\n",
        "    return shallow_mlp_model\n"
      ],
      "metadata": {
        "id": "-TOkRs_82Dfy"
      },
      "execution_count": null,
      "outputs": []
    },
    {
      "cell_type": "markdown",
      "source": [
        "## Train the model\n",
        "\n",
        "We will train our model using the binary crossentropy loss. This is because the labels\n",
        "are not disjoint. For a given abstract, we may have multiple categories. So, we will\n",
        "divide the prediction task into a series of multiple binary classification problems. This\n",
        "is also why we kept the activation function of the classification layer in our model to\n",
        "sigmoid. Researchers have used other combinations of loss function and activation\n",
        "function as well. For example, in\n",
        "[Exploring the Limits of Weakly Supervised Pretraining](https://arxiv.org/abs/1805.00932),\n",
        "Mahajan et al. used the softmax activation function and cross-entropy loss to train\n",
        "their models."
      ],
      "metadata": {
        "id": "o_ARP59Q2Idl"
      }
    },
    {
      "cell_type": "code",
      "source": [
        "epochs =  3\n",
        "\n",
        "shallow_mlp_model = make_model()\n",
        "shallow_mlp_model.compile(\n",
        "    loss=\"binary_crossentropy\", optimizer=\"adam\", metrics=[\"categorical_accuracy\"]\n",
        ")\n",
        "\n",
        "history = shallow_mlp_model.fit(\n",
        "    train_dataset, validation_data=validation_dataset, epochs=epochs\n",
        ")\n",
        "\n",
        "\n",
        "def plot_result(item):\n",
        "    plt.plot(history.history[item], label=item)\n",
        "    plt.plot(history.history[\"val_\" + item], label=\"val_\" + item)\n",
        "    plt.xlabel(\"Epochs\")\n",
        "    plt.ylabel(item)\n",
        "    plt.title(\"Train and Validation {} Over Epochs\".format(item), fontsize=14)\n",
        "    plt.legend()\n",
        "    plt.grid()\n",
        "    plt.show()\n",
        "\n",
        "\n",
        "plot_result(\"loss\")\n",
        "plot_result(\"categorical_accuracy\")"
      ],
      "metadata": {
        "colab": {
          "base_uri": "https://localhost:8080/",
          "height": 679
        },
        "id": "xQVowFS72JvY",
        "outputId": "3b00641d-aeb1-43f9-88ad-7e37bd4cc2e3"
      },
      "execution_count": null,
      "outputs": [
        {
          "output_type": "stream",
          "name": "stdout",
          "text": [
            "Epoch 1/3\n",
            "2/2 [==============================] - 1s 297ms/step - loss: 0.9227 - categorical_accuracy: 0.0250 - val_loss: 0.3779 - val_categorical_accuracy: 0.9512\n",
            "Epoch 2/3\n",
            "2/2 [==============================] - 0s 54ms/step - loss: 0.3557 - categorical_accuracy: 0.8250 - val_loss: 0.4206 - val_categorical_accuracy: 0.9512\n",
            "Epoch 3/3\n",
            "2/2 [==============================] - 0s 53ms/step - loss: 0.3143 - categorical_accuracy: 0.9187 - val_loss: 0.4650 - val_categorical_accuracy: 0.9512\n"
          ]
        },
        {
          "output_type": "display_data",
          "data": {
            "text/plain": [
              "<Figure size 432x288 with 1 Axes>"
            ],
            "image/png": "[encoded data removed]"
          },
          "metadata": {
            "needs_background": "light"
          }
        },
        {
          "output_type": "display_data",
          "data": {
            "text/plain": [
              "<Figure size 432x288 with 1 Axes>"
            ],
            "image/png": "[encoded data removed]"
          },
          "metadata": {
            "needs_background": "light"
          }
        }
      ]
    },
    {
      "cell_type": "markdown",
      "source": [],
      "metadata": {
        "id": "FFZXLuss2kGn"
      }
    },
    {
      "cell_type": "code",
      "source": [
        "_, categorical_acc = shallow_mlp_model.evaluate(test_dataset)\n",
        "print(f\"Categorical accuracy on the test set: {round(categorical_acc * 100, 2)}%.\")\n",
        "\n",
        "# _, categorical_acc = model.evaluate(test_dataset)\n",
        "# print(f\"Categorical accuracy on the test set: {round(categorical_acc * 100, 2)}%.\")"
      ],
      "metadata": {
        "id": "gs56405p5Q3u",
        "colab": {
          "base_uri": "https://localhost:8080/"
        },
        "outputId": "da074178-1a94-430a-9fd9-e76963cd5790"
      },
      "execution_count": null,
      "outputs": [
        {
          "output_type": "stream",
          "name": "stdout",
          "text": [
            "1/1 [==============================] - 0s 55ms/step - loss: 0.3807 - categorical_accuracy: 0.9254\n",
            "Categorical accuracy on the test set: 92.54%.\n"
          ]
        }
      ]
    },
    {
      "cell_type": "markdown",
      "source": [
        "The trained model gives us an evaluation accuracy of what is shown above."
      ],
      "metadata": {
        "id": "Z6xMPj8y5alT"
      }
    },
    {
      "cell_type": "markdown",
      "source": [
        "## Inference\n",
        "\n",
        "An important feature of the\n",
        "[preprocessing layers provided by Keras](https://keras.io/guides/preprocessing_layers/)\n",
        "is that they can be included inside a `tf.keras.Model`. We will export an inference model\n",
        "by including the `text_vectorization` layer on top of `shallow_mlp_model`. This will\n",
        "allow our inference model to directly operate on raw strings.\n",
        "\n",
        "**Note** that during training it is always preferable to use these preprocessing\n",
        "layers as a part of the data input pipeline rather than the model to avoid\n",
        "surfacing bottlenecks for the hardware accelerators. This also allows for\n",
        "asynchronous data processing."
      ],
      "metadata": {
        "id": "7CdbMyVE7MGQ"
      }
    },
    {
      "cell_type": "code",
      "source": [
        "# Create a model for inference.\n",
        "model_for_inference = keras.Sequential([text_vectorizer, shallow_mlp_model])\n",
        "\n",
        "# Create a small dataset just for demoing inference.\n",
        "inference_dataset = make_dataset(test_df.sample(10), is_train=False)\n",
        "text_batch, label_batch = next(iter(inference_dataset))\n",
        "predicted_probabilities = model_for_inference.predict(text_batch)\n",
        "\n",
        "# Perform inference.\n",
        "for i, text in enumerate(text_batch[:5]):\n",
        "    label = label_batch[i].numpy()[None, ...]\n",
        "    print(f\"Text: {text}\")\n",
        "    print(f\"Label(s): {invert_multi_hot(label[0])}\")\n",
        "    predicted_proba = [proba for proba in predicted_probabilities[i]]\n",
        "    top_3_labels = [\n",
        "        x\n",
        "        for _, x in sorted(\n",
        "            zip(predicted_probabilities[i], lookup.get_vocabulary()),\n",
        "            key=lambda pair: pair[0],\n",
        "            reverse=True,\n",
        "        )\n",
        "    ][:3]\n",
        "    print(f\"Predicted Label(s): ({', '.join([label for label in top_3_labels])})\")\n",
        "    print(\" \")"
      ],
      "metadata": {
        "id": "VXcwR85N5Wp_",
        "colab": {
          "base_uri": "https://localhost:8080/"
        },
        "outputId": "005d78fa-3174-4c9b-8b71-3d33e736e102"
      },
      "execution_count": null,
      "outputs": [
        {
          "output_type": "stream",
          "name": "stdout",
          "text": [
            "1/1 [==============================] - 0s 317ms/step\n",
            "Text: b'Some Monday morning good news....Northern Sierra snowpack is currently 165% of normal. https://t.co/bqq8ctx1zJ'\n",
            "Label(s): ['Behavioral']\n",
            "Predicted Label(s): (Behavioral, Skills, Tip)\n",
            " \n",
            "Text: b'Get Ready for the RAIN and SAVE OUR WATER with a Rain Barrel: http://t.co/iM6qRAiCL7 http://t.co/J8qWqQniyZ'\n",
            "Label(s): ['Behavioral' 'Skills' 'Tip']\n",
            "Predicted Label(s): (Behavioral, Skills, Subsidy)\n",
            " \n",
            "Text: b'.@TeamCoco @ConanOBrien Joins The Effort for #CADrought! Watch the videos at http://t.co/T2s0oyTc3R  #TeamCocoH2O http://t.co/HCyGlgraIg'\n",
            "Label(s): ['Behavioral']\n",
            "Predicted Label(s): (Behavioral, Skills, Tip)\n",
            " \n",
            "Text: b'1,800 beautiful low water use plants 2 inspire U @bewatersmart #yardmakeover #gardenlovers https://t.co/bYH0BLvW0h https://t.co/nyjr4Baxmb'\n",
            "Label(s): ['Behavioral' 'Skills' 'Tip']\n",
            "Predicted Label(s): (Behavioral, Skills, Subsidy)\n",
            " \n",
            "Text: b'Just think how much water you can save this fall by cutting back your sprinkler use! #bewaterwise #SanJuanWater https://t.co/S17Mhb6zjI'\n",
            "Label(s): ['Behavioral' 'Skills' 'Tip']\n",
            "Predicted Label(s): (Behavioral, Skills, Tip)\n",
            " \n"
          ]
        }
      ]
    },
    {
      "cell_type": "markdown",
      "source": [
        "# Part 2 \n",
        "\n",
        "## separate out information and motivation"
      ],
      "metadata": {
        "id": "bkdHAdCVR0as"
      }
    },
    {
      "cell_type": "code",
      "source": [],
      "metadata": {
        "id": "k0E95blhR6Te"
      },
      "execution_count": null,
      "outputs": []
    }
  ]
}